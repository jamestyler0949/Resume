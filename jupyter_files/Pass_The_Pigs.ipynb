{
  "cells": [
    {
      "cell_type": "markdown",
      "metadata": {
        "collapsed": false,
        "id": "xUHwPPgW0e9-"
      },
      "source": [
        "# Math 113: Pass the Pigs Probability\n",
        "\n",
        "This jupyter notebook is for displaying the math behind the optimal play of the game \"pig\". Note that we're considering optimal play of a single person: it gets more complicated the more people you're playing against. However, this has been studied by others. Specifically, I came across the works of Todd Neller, linked here: https://cupola.gettysburg.edu/csfac/4/ \n",
        "\n",
        "We'll use two methods for studying this: the Scoring Method Analysis, and the Monte\\-Carlo Method.\n",
        "\n"
      ]
    },
    {
      "cell_type": "code",
      "execution_count": 1,
      "metadata": {
        "id": "tMJLpfyo0e-B"
      },
      "outputs": [],
      "source": [
        "import numpy as np\n",
        "import pandas as pd\n",
        "import matplotlib.pyplot as plt\n",
        "import math as m"
      ]
    },
    {
      "cell_type": "markdown",
      "metadata": {
        "collapsed": false,
        "id": "UncYlXWh0e-C"
      },
      "source": [
        "Below is the Scoring Method Analysis, that is the actual calculus to predict how to play the game optimally.  \n",
        "\n",
        "We can define a recursive sequence which will give us, given a score we're on, what score we'd average if we rolled again. The limit of this sequence will be our ideal score.\n",
        "\n",
        "$$ a_{n+1} = \\frac{5}{6}(4+a_n) = \\frac{10}{3} + \\frac{5 a_n}{6} $$\n"
      ]
    },
    {
      "cell_type": "code",
      "execution_count": 2,
      "metadata": {
        "id": "RbrogGnc0e-D"
      },
      "outputs": [],
      "source": [
        "def recursive_sequence(a_n):\n",
        "    a_next = (5/6)*(a_n + 4)\n",
        "    return(a_next)"
      ]
    },
    {
      "cell_type": "code",
      "execution_count": 3,
      "metadata": {
        "id": "v7jLeQV00e-D",
        "outputId": "6b0b18d9-d8f5-4cbf-ccdf-05d6869cba10",
        "colab": {
          "base_uri": "https://localhost:8080/"
        }
      },
      "outputs": [
        {
          "output_type": "stream",
          "name": "stdout",
          "text": [
            "[0, 3.3333333333333335, 6.111111111111112, 8.425925925925926, 10.354938271604938, 11.962448559670783, 13.30204046639232, 14.418367055326934, 15.348639212772444, 16.123866010643702, 16.769888342203085, 17.308240285169237, 17.7568669043077, 18.13072242025642, 18.442268683547017, 18.701890569622513, 18.918242141352096, 19.098535117793414, 19.248779264827846, 19.373982720689874, 19.47831893390823, 19.565265778256858, 19.637721481880718, 19.698101234900598, 19.7484176957505, 19.790348079792086, 19.825290066493405, 19.854408388744506, 19.878673657287088, 19.89889471440591, 19.915745595338258, 19.929787996115216, 19.94148999676268, 19.9512416639689, 19.95936805330742, 19.96614004442285, 19.971783370352377, 19.976486141960315, 19.980405118300265, 19.983670931916887, 19.986392443264073, 19.98866036938673, 19.990550307822275, 19.992125256518563, 19.99343771376547, 19.994531428137893, 19.99544285678158, 19.99620238065132, 19.996835317209435, 19.997362764341197]\n"
          ]
        }
      ],
      "source": [
        "sequence = []\n",
        "a_old = 0\n",
        "for i in range(50):\n",
        "    sequence.append(a_old)\n",
        "    a_new = recursive_sequence(a_old)\n",
        "    a_old = a_new\n",
        "print(sequence)"
      ]
    },
    {
      "cell_type": "markdown",
      "metadata": {
        "collapsed": false,
        "id": "AKWOe8WL0e-E"
      },
      "source": [
        "Its pretty clear the score we want to aim for is 20, looking at the limit we seem to be approaching below. Lets see if we can verify this, by plugging all of the values from 1 to 50 into this.  \n",
        "In order to do this, we're going to find whether or not the sequences goes down or up, based on differing scores, and call this the difference. When the difference is positive, we should roll again. When the difference is negative, we should not."
      ]
    },
    {
      "cell_type": "code",
      "execution_count": 4,
      "metadata": {
        "id": "rBDynvdl0e-E"
      },
      "outputs": [],
      "source": [
        "def difference(score):\n",
        "    score_next = recursive_sequence(score)\n",
        "    diff = score_next - score\n",
        "    return(diff)"
      ]
    },
    {
      "cell_type": "code",
      "execution_count": 5,
      "metadata": {
        "id": "dJqidYO90e-F",
        "outputId": "52a1f079-6ded-4e71-b11d-56ed823d18b0",
        "colab": {
          "base_uri": "https://localhost:8080/"
        }
      },
      "outputs": [
        {
          "output_type": "stream",
          "name": "stdout",
          "text": [
            "7.5\n",
            "2.5\n"
          ]
        }
      ],
      "source": [
        "print(recursive_sequence(5))\n",
        "print(difference(5))"
      ]
    },
    {
      "cell_type": "code",
      "execution_count": 6,
      "metadata": {
        "id": "nVAk-Vuf0e-F",
        "outputId": "e4a4a2af-2f4c-4097-aa5d-38f35545d10a",
        "colab": {
          "base_uri": "https://localhost:8080/",
          "height": 295
        }
      },
      "outputs": [
        {
          "output_type": "display_data",
          "data": {
            "text/plain": [
              "<Figure size 432x288 with 1 Axes>"
            ],
            "image/png": "[encoded data removed]"
          },
          "metadata": {
            "needs_background": "light"
          }
        }
      ],
      "source": [
        "test_vals = np.linspace(1, 40, 40)\n",
        "#print(test_vals)\n",
        "diff_vals = []\n",
        "for t in test_vals:\n",
        "    differ = difference(t)\n",
        "    diff_vals.append(differ)\n",
        "#print(avg_vals)\n",
        "plt.plot(test_vals, diff_vals)\n",
        "plt.title(\"Average Scores of PIG by Score Method\")\n",
        "plt.xlabel(\"Score Aim\")\n",
        "plt.ylabel(\"Difference Score\")\n",
        "plt.grid()\n",
        "plt.show()"
      ]
    },
    {
      "cell_type": "markdown",
      "metadata": {
        "collapsed": false,
        "id": "-hHITM3G0e-F"
      },
      "source": [
        "Below is the Monte\\-Carlo Method for looking at this situation. That is, we're simply playing the game millions of times, trying out all the strategies, and seeing how well we do.\n",
        "\n",
        "Below I'm defining a few functions. \"roll\" is obvious \\(random d sided dice is rolled\\). aim\\_for is a function in which we roll until we either roll a 1 \\(losing all our score\\), or else hit \\(or surpass\\) our \"aim for\" target, and keep the score. average is a function which calls aim\\_for repeatedly, in order to find the average of the different values we can aim for, that is, what we'd expect to get on average each round if we aimed for that score. This is only accurate in as far as the iterations are taken to be very large.\n",
        "\n"
      ]
    },
    {
      "cell_type": "code",
      "execution_count": 7,
      "metadata": {
        "id": "rVNknv1x0e-G"
      },
      "outputs": [],
      "source": [
        "def roll(d=6):\n",
        "    return(np.random.randint(1, d+1))"
      ]
    },
    {
      "cell_type": "code",
      "execution_count": 8,
      "metadata": {
        "id": "VpmZru5r0e-G"
      },
      "outputs": [],
      "source": [
        "def aim_for(aim, print_=False):\n",
        "    score = 0\n",
        "    check = False\n",
        "    while score < aim and check == False:\n",
        "        val = roll()\n",
        "        if print_:print(val)\n",
        "        if val == 1:\n",
        "            if print_:print(\"Rolled a 1!\")\n",
        "            check = True\n",
        "            score = 0\n",
        "        if val != 1:\n",
        "            score += val\n",
        "    return(score)"
      ]
    },
    {
      "cell_type": "code",
      "execution_count": 9,
      "metadata": {
        "id": "QQGNSCky0e-G"
      },
      "outputs": [],
      "source": [
        "def average(its, aim, print_=False):\n",
        "    scores = []\n",
        "    for i in range(0, its):\n",
        "        scores.append(aim_for(aim))\n",
        "    avg = np.mean(scores)\n",
        "    if print_: print(scores)\n",
        "    return(avg, scores)"
      ]
    },
    {
      "cell_type": "code",
      "execution_count": 10,
      "metadata": {
        "id": "cV-Uu3-T0e-G",
        "outputId": "82d607ac-5dfd-40b9-d514-bf3ae7f5041c",
        "colab": {
          "base_uri": "https://localhost:8080/"
        }
      },
      "outputs": [
        {
          "output_type": "stream",
          "name": "stdout",
          "text": [
            "7.3469\n"
          ]
        }
      ],
      "source": [
        "val = average(10000, 12, print_=False)\n",
        "print(val[0])"
      ]
    },
    {
      "cell_type": "markdown",
      "metadata": {
        "collapsed": false,
        "id": "oaTbuTvW0e-H"
      },
      "source": [
        "Below we run our \"average\" function for all of the differing possible values up to 50. This lets us get a sense of the optimal \"score\" to aim for. Notice that the graph is bumpy, but if we take the \"its\" line to be larger, we can get a better idea of the optimal score, at the cost of increased time to run our cell.\n"
      ]
    },
    {
      "cell_type": "code",
      "execution_count": 11,
      "metadata": {
        "scrolled": true,
        "id": "pW3eYUGH0e-H",
        "outputId": "e9c89681-ac60-4637-dd57-a04578f10e01",
        "colab": {
          "base_uri": "https://localhost:8080/",
          "height": 295
        }
      },
      "outputs": [
        {
          "output_type": "display_data",
          "data": {
            "text/plain": [
              "<Figure size 432x288 with 1 Axes>"
            ],
            "image/png": "[encoded data removed]"
          },
          "metadata": {
            "needs_background": "light"
          }
        }
      ],
      "source": [
        "test_vals = np.linspace(1, 50, 50)\n",
        "#print(test_vals)\n",
        "avg_vals = []\n",
        "for t in test_vals:\n",
        "    avg = average(its=10000, aim=t)[0]\n",
        "    avg_vals.append(avg)\n",
        "#print(avg_vals)\n",
        "plt.plot(test_vals, avg_vals)\n",
        "plt.title(\"Average Scores of PIG by Score Method\")\n",
        "plt.xlabel(\"Score Aim\")\n",
        "plt.ylabel(\"Average Score\")\n",
        "plt.grid()\n",
        "plt.show()"
      ]
    },
    {
      "cell_type": "markdown",
      "metadata": {
        "collapsed": false,
        "id": "0nEQwn_n0e-H"
      },
      "source": [
        "We've shown then a few different ways that, if you have a score of 20 or greater, than you should stop rolling. This makes sense with the analysis done in the pass-the-pigs worksheet, as 4 is the average of a single roll (since 1 will score nothing), and we found that 5 rolls is the number you can roll before realistically, it becomes very likely you'll roll a 1."
      ]
    },
    {
      "cell_type": "code",
      "execution_count": null,
      "metadata": {
        "id": "6WayMHqe0e-I"
      },
      "outputs": [],
      "source": [
        ""
      ]
    }
  ],
  "metadata": {
    "kernelspec": {
      "display_name": "Python 3 (system-wide)",
      "language": "python",
      "metadata": {
        "cocalc": {
          "description": "Python 3 programming language",
          "priority": 100,
          "url": "https://www.python.org/"
        }
      },
      "name": "python3",
      "resource_dir": "/ext/jupyter/kernels/python3"
    },
    "language_info": {
      "codemirror_mode": {
        "name": "ipython",
        "version": 3
      },
      "file_extension": ".py",
      "mimetype": "text/x-python",
      "name": "python",
      "nbconvert_exporter": "python",
      "pygments_lexer": "ipython3",
      "version": "3.8.10"
    },
    "colab": {
      "name": "Pass_The_Pigs.ipynb",
      "provenance": [],
      "collapsed_sections": []
    }
  },
  "nbformat": 4,
  "nbformat_minor": 0
}