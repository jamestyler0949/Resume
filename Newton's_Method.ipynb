{
  "nbformat": 4,
  "nbformat_minor": 0,
  "metadata": {
    "colab": {
      "name": "Newton's Method",
      "provenance": []
    },
    "kernelspec": {
      "name": "python3",
      "display_name": "Python 3"
    },
    "language_info": {
      "name": "python"
    }
  },
  "cells": [
    {
      "cell_type": "markdown",
      "source": [
        "#M113: Newton's Method\n",
        "Newton's Method is an algorith for finding the \"root\" of an function, or when that function satisfies $f(x) = 0$. Ths basis is given geometrically as using the slope of the tangent line of a function at a point, along with the evaluation of the function at that point, to get iteratively closer to an evaluation of the function as zero."
      ],
      "metadata": {
        "id": "8HaepilTILln"
      }
    },
    {
      "cell_type": "code",
      "execution_count": 1,
      "metadata": {
        "id": "LYRpEMN7F8-I"
      },
      "outputs": [],
      "source": [
        "import numpy as np"
      ]
    },
    {
      "cell_type": "code",
      "source": [
        "def Newtons_Method(function, derivative, guess = 0, tolerance = 1e-16, iterations = 10**(5), print_=False):\n",
        "  x_old = guess\n",
        "  check = False\n",
        "  count = 0\n",
        "  while check == False and count <= iterations:\n",
        "    x_new = x_old - (function(x_old))/(derivative(x_old))\n",
        "    if print_ == True:\n",
        "      print(x_new)\n",
        "    if abs(x_new - x_old) <= tolerance:\n",
        "      check = True\n",
        "    x_old = x_new\n",
        "    count += 1\n",
        "  return(x_old, count)\n"
      ],
      "metadata": {
        "id": "QrHiBvcyF-0M"
      },
      "execution_count": 3,
      "outputs": []
    },
    {
      "cell_type": "markdown",
      "source": [
        "Notice that we'll need to have both a scalar function, and a scalar derivative. Newton's method can be extended to act on multivariable functions (though the derivative will be the Gradient Matrix). This is the basis of many Machine Learning Algorithmic methods."
      ],
      "metadata": {
        "id": "5xfvXE0PJsoX"
      }
    },
    {
      "cell_type": "code",
      "source": [
        "def function_1(x):\n",
        "  return(x**5 + 3*x**2 + 2)\n",
        "\n",
        "def derivative_1(x):\n",
        "  return(5*x**4 + 6*x)"
      ],
      "metadata": {
        "id": "pc-_4ZyPHvpO"
      },
      "execution_count": 4,
      "outputs": []
    },
    {
      "cell_type": "code",
      "source": [
        "Newtons_Method(function_1, derivative_1, guess = 500, print_ = True)"
      ],
      "metadata": {
        "colab": {
          "base_uri": "https://localhost:8080/"
        },
        "id": "-Gmc8JRzH4gW",
        "outputId": "30a75393-5f13-4982-fa3a-4581d254ec63"
      },
      "execution_count": 5,
      "outputs": [
        {
          "output_type": "stream",
          "name": "stdout",
          "text": [
            "399.9999985599936\n",
            "319.9999965979793\n",
            "255.99999376272035\n",
            "204.7999895169192\n",
            "163.83998303023944\n",
            "131.07197301259225\n",
            "104.85755745396315\n",
            "83.88601321806004\n",
            "67.10875940731566\n",
            "53.68692757014141\n",
            "42.949417108081626\n",
            "34.35933841315459\n",
            "27.48716551359363\n",
            "21.98925526002603\n",
            "17.59065805263336\n",
            "14.07135909698745\n",
            "11.25525970908225\n",
            "9.00134346616991\n",
            "7.196578123725628\n",
            "5.750185108575037\n",
            "4.588965026519441\n",
            "3.6533956191180597\n",
            "2.8942011822560403\n",
            "2.268978036293801\n",
            "1.7380843457942643\n",
            "1.2577909810596426\n",
            "0.764586004834825\n",
            "0.126893994132533\n",
            "-2.5588876336716777\n",
            "-2.1163799781277777\n",
            "-1.807955126338308\n",
            "-1.6315382222573203\n",
            "-1.5701100122328215\n",
            "-1.5631224230840643\n",
            "-1.5630376667658707\n",
            "-1.5630376544133664\n",
            "-1.5630376544133662\n",
            "-1.5630376544133662\n"
          ]
        },
        {
          "output_type": "execute_result",
          "data": {
            "text/plain": [
              "(-1.5630376544133662, 38)"
            ]
          },
          "metadata": {},
          "execution_count": 5
        }
      ]
    },
    {
      "cell_type": "code",
      "source": [
        ""
      ],
      "metadata": {
        "id": "gCb5KG2_H98K"
      },
      "execution_count": null,
      "outputs": []
    }
  ]
}