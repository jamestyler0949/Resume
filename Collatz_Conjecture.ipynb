{
  "cells": [
    {
      "cell_type": "markdown",
      "metadata": {
        "id": "YH6oMB-b_lnp"
      },
      "source": [
        "#M113: Collatz Conjecture\n",
        "The purpose of this code is to illustrate a famous conjecture on a specific recursive sequence, discovered by Collatz. Consider the piece-wise defined recursive sequence below:\n",
        "$$ 2n\\in \\mathbb{N}\\implies a_{n+1} = n $$\n",
        "$$ 2n\\notin \\mathbb{N}\\implies a_{n+1} = 3n + 1 $$\n",
        "Notice then, if we start with $a_0\\in \\mathbb{N}$, that implies that all $a_i\\in \\mathbb{N},\\,\\,\\,\\forall i$.  \n",
        "Collatz noticed an interesting pattern, that all sequences he found eventually reduced to the pattern:\n",
        "$$ ... 4, 2, 1, 4, 2, 1, ... $$\n",
        "He made a conjecture that this will hold true for all integers we use as the starting point. However, while trying to prove this fact may seem simple, its eluded mathematicians for years."
      ]
    },
    {
      "cell_type": "code",
      "execution_count": 1,
      "metadata": {
        "id": "nUgcFrAluuss"
      },
      "outputs": [],
      "source": [
        "import numpy as np\n",
        "import matplotlib.pyplot as plt\n",
        "import math as m"
      ]
    },
    {
      "cell_type": "code",
      "execution_count": 2,
      "metadata": {
        "id": "jisCshNqu0tK"
      },
      "outputs": [],
      "source": [
        "def type_(n):\n",
        "  val1 = (n/2)\n",
        "  val2 = np.floor(n/2)\n",
        "  if val1 == val2:\n",
        "    return(\"even\")\n",
        "  if val1 != val2:\n",
        "    return(\"odd\")"
      ]
    },
    {
      "cell_type": "code",
      "execution_count": 3,
      "metadata": {
        "id": "l9BuKHz4vNC8"
      },
      "outputs": [],
      "source": [
        "def recursive(n):\n",
        "  if type_(n) == \"even\":\n",
        "    return(n/2)\n",
        "  elif type_(n) == \"odd\":\n",
        "    return(3*n+1)\n"
      ]
    },
    {
      "cell_type": "code",
      "execution_count": 4,
      "metadata": {
        "id": "BTmOst_VwO4p"
      },
      "outputs": [],
      "source": [
        "def collatz(n, max_its = 1000, print_=False):\n",
        "  check = False\n",
        "  its = 1\n",
        "  old = n\n",
        "  if(print_ == True):\n",
        "    print(old)\n",
        "  while check == False:\n",
        "    new = recursive(old)\n",
        "    old = new\n",
        "    if(print_ == True):\n",
        "      print(new)\n",
        "    if new == 1:\n",
        "      check = True\n",
        "    its += 1\n",
        "  return(its)"
      ]
    },
    {
      "cell_type": "markdown",
      "metadata": {
        "id": "ie8IFHF9AoSk"
      },
      "source": [
        "We've defined the recursive sequence above, and the function \"collatz\" will apply it (until it eventually \"terminates\" at 1, though the true sequence continues indefinitely). We can then below verify that all of these sequences will eventually hit 1 for all the numbers up to 1000. Though its beyond the compuational power of this machine (and likely whatever machine you're using), this has been verified well beyond 1000. For up to date information, see Collatz Conjecture on wikipedia."
      ]
    },
    {
      "cell_type": "code",
      "execution_count": 5,
      "metadata": {
        "colab": {
          "base_uri": "https://localhost:8080/",
          "height": 295
        },
        "id": "2SHBEZMevl5l",
        "outputId": "7d50f312-be8b-4fce-9211-261fa8263ca8"
      },
      "outputs": [
        {
          "data": {
            "image/png": "[encoded data removed]",
            "text/plain": [
              "<Figure size 432x288 with 1 Axes>"
            ]
          },
          "metadata": {
            "needs_background": "light"
          },
          "output_type": "display_data"
        }
      ],
      "source": [
        "n = 1000\n",
        "n_vals = np.linspace(1, n, num = n)\n",
        "iterations = []\n",
        "for i in range(len(n_vals)):\n",
        "  iterations.append(collatz(n_vals[i]))\n",
        "plt.scatter(n_vals, iterations)\n",
        "plt.xlabel(\"N-Value\")\n",
        "plt.ylabel(\"Number of Iterations\")\n",
        "plt.title(\"Number of Iterations in Collatz Conjecture to reach 1\")\n",
        "plt.show()"
      ]
    },
    {
      "cell_type": "code",
      "execution_count": 8,
      "metadata": {
        "colab": {
          "base_uri": "https://localhost:8080/"
        },
        "id": "AisRtln3xHcj",
        "outputId": "bcc0eff4-bb52-4200-c7b9-bb3606375632"
      },
      "outputs": [
        {
          "name": "stdout",
          "output_type": "stream",
          "text": [
            "60\n",
            "30.0\n",
            "15.0\n",
            "46.0\n",
            "23.0\n",
            "70.0\n",
            "35.0\n",
            "106.0\n",
            "53.0\n",
            "160.0\n",
            "80.0\n",
            "40.0\n",
            "20.0\n",
            "10.0\n",
            "5.0\n",
            "16.0\n",
            "8.0\n",
            "4.0\n",
            "2.0\n",
            "1.0\n"
          ]
        },
        {
          "data": {
            "text/plain": [
              "20"
            ]
          },
          "execution_count": 8,
          "metadata": {},
          "output_type": "execute_result"
        }
      ],
      "source": [
        "collatz(60, print_=True)"
      ]
    },
    {
      "cell_type": "code",
      "execution_count": null,
      "metadata": {
        "id": "yvSyiUZB17rJ"
      },
      "outputs": [],
      "source": []
    }
  ],
  "metadata": {
    "colab": {
      "name": "Collatz Conjecture Illustration.ipynb",
      "provenance": []
    },
    "kernelspec": {
      "display_name": "Python 3.9.12 ('base')",
      "language": "python",
      "name": "python3"
    },
    "language_info": {
      "codemirror_mode": {
        "name": "ipython",
        "version": 3
      },
      "file_extension": ".py",
      "mimetype": "text/x-python",
      "name": "python",
      "nbconvert_exporter": "python",
      "pygments_lexer": "ipython3",
      "version": "3.9.12"
    },
    "vscode": {
      "interpreter": {
        "hash": "594cbcb53b7eb24b01ad1ace3292a9583de43e996a12a214afbcf4f5a5715dd8"
      }
    }
  },
  "nbformat": 4,
  "nbformat_minor": 0
}
