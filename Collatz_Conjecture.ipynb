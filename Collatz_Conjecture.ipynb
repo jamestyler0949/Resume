{
  "nbformat": 4,
  "nbformat_minor": 0,
  "metadata": {
    "colab": {
      "name": "Collatz Conjecture Illustration.ipynb",
      "provenance": []
    },
    "kernelspec": {
      "name": "python3",
      "display_name": "Python 3"
    },
    "language_info": {
      "name": "python"
    }
  },
  "cells": [
    {
      "cell_type": "markdown",
      "source": [
        "#M113: Collatz Conjecture\n",
        "The purpose of this code is to illustrate a famous conjecture on a specific recursive sequence, discovered by Collatz. Consider the piece-wise defined recursive sequence below:\n",
        "$$ 2n\\in \\mathbb{N}\\implies a_{n+1} = n $$\n",
        "$$ 2n\\notin \\mathbb{N}\\implies a_{n+1} = 3n + 1 $$\n",
        "Notice then, if we start with $a_0\\in \\mathbb{N}$, that implies that all $a_i\\in \\mathbb{N},\\,\\,\\,\\forall i$.  \n",
        "Collatz noticed an interesting pattern, that all sequences he found eventually reduced to the pattern:\n",
        "$$ ... 4, 2, 1, 4, 2, 1, ... $$\n",
        "He made a conjecture that this will hold true for all integers we use as the starting point. However, while trying to prove this fact may seem simple, its eluded mathematicians for years."
      ],
      "metadata": {
        "id": "YH6oMB-b_lnp"
      }
    },
    {
      "cell_type": "code",
      "execution_count": 1,
      "metadata": {
        "id": "nUgcFrAluuss"
      },
      "outputs": [],
      "source": [
        "import numpy as np\n",
        "import matplotlib.pyplot as plt\n",
        "import math as m"
      ]
    },
    {
      "cell_type": "code",
      "source": [
        "def type_(n):\n",
        "  val1 = (n/2)\n",
        "  val2 = np.floor(n/2)\n",
        "  if val1 == val2:\n",
        "    return(\"even\")\n",
        "  if val1 != val2:\n",
        "    return(\"odd\")"
      ],
      "metadata": {
        "id": "jisCshNqu0tK"
      },
      "execution_count": 2,
      "outputs": []
    },
    {
      "cell_type": "code",
      "source": [
        "def recursive(n):\n",
        "  if type_(n) == \"even\":\n",
        "    return(n/2)\n",
        "  elif type_(n) == \"odd\":\n",
        "    return(3*n+1)\n"
      ],
      "metadata": {
        "id": "l9BuKHz4vNC8"
      },
      "execution_count": 3,
      "outputs": []
    },
    {
      "cell_type": "code",
      "source": [
        "def collatz(n, max_its = 1000, print_=False):\n",
        "  check = False\n",
        "  its = 1\n",
        "  old = n\n",
        "  if(print_ == True):\n",
        "    print(old)\n",
        "  while check == False:\n",
        "    new = recursive(old)\n",
        "    old = new\n",
        "    if(print_ == True):\n",
        "      print(new)\n",
        "    if new == 1:\n",
        "      check = True\n",
        "    its += 1\n",
        "  return(its)"
      ],
      "metadata": {
        "id": "BTmOst_VwO4p"
      },
      "execution_count": 4,
      "outputs": []
    },
    {
      "cell_type": "markdown",
      "source": [
        "We've defined the recursive sequence above, and the function \"collatz\" will apply it (until it eventually \"terminates\" at 1, though the true sequence continues indefinitely). We can then below verify that all of these sequences will eventually hit 1 for all the numbers up to 1000. Though its beyond the compuational power of this machine (and likely whatever machine you're using), this has been verified well beyond 1000. For up to date information, see Collatz Conjecture on wikipedia."
      ],
      "metadata": {
        "id": "ie8IFHF9AoSk"
      }
    },
    {
      "cell_type": "code",
      "source": [
        "n = 1000\n",
        "n_vals = np.linspace(1, n, num = n)\n",
        "iterations = []\n",
        "for i in range(len(n_vals)):\n",
        "  iterations.append(collatz(n_vals[i]))\n",
        "plt.scatter(n_vals, iterations)\n",
        "plt.xlabel(\"N-Value\")\n",
        "plt.ylabel(\"Number of Iterations\")\n",
        "plt.title(\"Number of Iterations in Collatz Conjecture to reach 1\")\n",
        "plt.show()"
      ],
      "metadata": {
        "colab": {
          "base_uri": "https://localhost:8080/",
          "height": 295
        },
        "id": "2SHBEZMevl5l",
        "outputId": "7d50f312-be8b-4fce-9211-261fa8263ca8"
      },
      "execution_count": 6,
      "outputs": [
        {
          "output_type": "display_data",
          "data": {
            "text/plain": [
              "<Figure size 432x288 with 1 Axes>"
            ],
            "image/png": "[encoded data removed]"
          },
          "metadata": {
            "needs_background": "light"
          }
        }
      ]
    },
    {
      "cell_type": "code",
      "source": [
        "collatz(6842326150, print_=True)"
      ],
      "metadata": {
        "id": "AisRtln3xHcj",
        "colab": {
          "base_uri": "https://localhost:8080/"
        },
        "outputId": "bcc0eff4-bb52-4200-c7b9-bb3606375632"
      },
      "execution_count": null,
      "outputs": [
        {
          "output_type": "stream",
          "name": "stdout",
          "text": [
            "6842326150\n",
            "3421163075.0\n",
            "10263489226.0\n",
            "5131744613.0\n",
            "15395233840.0\n",
            "7697616920.0\n",
            "3848808460.0\n",
            "1924404230.0\n",
            "962202115.0\n",
            "2886606346.0\n",
            "1443303173.0\n",
            "4329909520.0\n",
            "2164954760.0\n",
            "1082477380.0\n",
            "541238690.0\n",
            "270619345.0\n",
            "811858036.0\n",
            "405929018.0\n",
            "202964509.0\n",
            "608893528.0\n",
            "304446764.0\n",
            "152223382.0\n",
            "76111691.0\n",
            "228335074.0\n",
            "114167537.0\n",
            "342502612.0\n",
            "171251306.0\n",
            "85625653.0\n",
            "256876960.0\n",
            "128438480.0\n",
            "64219240.0\n",
            "32109620.0\n",
            "16054810.0\n",
            "8027405.0\n",
            "24082216.0\n",
            "12041108.0\n",
            "6020554.0\n",
            "3010277.0\n",
            "9030832.0\n",
            "4515416.0\n",
            "2257708.0\n",
            "1128854.0\n",
            "564427.0\n",
            "1693282.0\n",
            "846641.0\n",
            "2539924.0\n",
            "1269962.0\n",
            "634981.0\n",
            "1904944.0\n",
            "952472.0\n",
            "476236.0\n",
            "238118.0\n",
            "119059.0\n",
            "357178.0\n",
            "178589.0\n",
            "535768.0\n",
            "267884.0\n",
            "133942.0\n",
            "66971.0\n",
            "200914.0\n",
            "100457.0\n",
            "301372.0\n",
            "150686.0\n",
            "75343.0\n",
            "226030.0\n",
            "113015.0\n",
            "339046.0\n",
            "169523.0\n",
            "508570.0\n",
            "254285.0\n",
            "762856.0\n",
            "381428.0\n",
            "190714.0\n",
            "95357.0\n",
            "286072.0\n",
            "143036.0\n",
            "71518.0\n",
            "35759.0\n",
            "107278.0\n",
            "53639.0\n",
            "160918.0\n",
            "80459.0\n",
            "241378.0\n",
            "120689.0\n",
            "362068.0\n",
            "181034.0\n",
            "90517.0\n",
            "271552.0\n",
            "135776.0\n",
            "67888.0\n",
            "33944.0\n",
            "16972.0\n",
            "8486.0\n",
            "4243.0\n",
            "12730.0\n",
            "6365.0\n",
            "19096.0\n",
            "9548.0\n",
            "4774.0\n",
            "2387.0\n",
            "7162.0\n",
            "3581.0\n",
            "10744.0\n",
            "5372.0\n",
            "2686.0\n",
            "1343.0\n",
            "4030.0\n",
            "2015.0\n",
            "6046.0\n",
            "3023.0\n",
            "9070.0\n",
            "4535.0\n",
            "13606.0\n",
            "6803.0\n",
            "20410.0\n",
            "10205.0\n",
            "30616.0\n",
            "15308.0\n",
            "7654.0\n",
            "3827.0\n",
            "11482.0\n",
            "5741.0\n",
            "17224.0\n",
            "8612.0\n",
            "4306.0\n",
            "2153.0\n",
            "6460.0\n",
            "3230.0\n",
            "1615.0\n",
            "4846.0\n",
            "2423.0\n",
            "7270.0\n",
            "3635.0\n",
            "10906.0\n",
            "5453.0\n",
            "16360.0\n",
            "8180.0\n",
            "4090.0\n",
            "2045.0\n",
            "6136.0\n",
            "3068.0\n",
            "1534.0\n",
            "767.0\n",
            "2302.0\n",
            "1151.0\n",
            "3454.0\n",
            "1727.0\n",
            "5182.0\n",
            "2591.0\n",
            "7774.0\n",
            "3887.0\n",
            "11662.0\n",
            "5831.0\n",
            "17494.0\n",
            "8747.0\n",
            "26242.0\n",
            "13121.0\n",
            "39364.0\n",
            "19682.0\n",
            "9841.0\n",
            "29524.0\n",
            "14762.0\n",
            "7381.0\n",
            "22144.0\n",
            "11072.0\n",
            "5536.0\n",
            "2768.0\n",
            "1384.0\n",
            "692.0\n",
            "346.0\n",
            "173.0\n",
            "520.0\n",
            "260.0\n",
            "130.0\n",
            "65.0\n",
            "196.0\n",
            "98.0\n",
            "49.0\n",
            "148.0\n",
            "74.0\n",
            "37.0\n",
            "112.0\n",
            "56.0\n",
            "28.0\n",
            "14.0\n",
            "7.0\n",
            "22.0\n",
            "11.0\n",
            "34.0\n",
            "17.0\n",
            "52.0\n",
            "26.0\n",
            "13.0\n",
            "40.0\n",
            "20.0\n",
            "10.0\n",
            "5.0\n",
            "16.0\n",
            "8.0\n",
            "4.0\n",
            "2.0\n",
            "1.0\n"
          ]
        },
        {
          "output_type": "execute_result",
          "data": {
            "text/plain": [
              "202"
            ]
          },
          "metadata": {},
          "execution_count": 7
        }
      ]
    },
    {
      "cell_type": "code",
      "source": [
        ""
      ],
      "metadata": {
        "id": "yvSyiUZB17rJ"
      },
      "execution_count": null,
      "outputs": []
    }
  ]
}